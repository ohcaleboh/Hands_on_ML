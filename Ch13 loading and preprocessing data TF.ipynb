{
 "cells": [
  {
   "cell_type": "markdown",
   "metadata": {},
   "source": [
    "TFRecord is TensorFlow's preferred format for datastorage and reading data --as opposed to CSV. \n",
    "\n",
    "page 416 -> shows you how to read and manipulate the TFRecored data type --pretty intuitive. \n",
    "\n",
    "this chapter was pretty technical --the main gist was covering how to manage big datasets and create pre-processing pipelines acrossw the board. "
   ]
  }
 ],
 "metadata": {
  "kernelspec": {
   "display_name": "Python (myenv)",
   "language": "python",
   "name": "myenv"
  },
  "language_info": {
   "codemirror_mode": {
    "name": "ipython",
    "version": 3
   },
   "file_extension": ".py",
   "mimetype": "text/x-python",
   "name": "python",
   "nbconvert_exporter": "python",
   "pygments_lexer": "ipython3",
   "version": "3.8.3"
  }
 },
 "nbformat": 4,
 "nbformat_minor": 4
}
