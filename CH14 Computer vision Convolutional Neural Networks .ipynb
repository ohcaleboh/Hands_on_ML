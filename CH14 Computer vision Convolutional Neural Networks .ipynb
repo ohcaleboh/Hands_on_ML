{
 "cells": [
  {
   "cell_type": "markdown",
   "metadata": {},
   "source": [
    "this chapter covers convolutional networks, how to create them in keras and tensorflow, and the best CNN architectures for differnt visualization tasks --e.g., putting a box around categorically identified objects and other things that require perception \n",
    "\n",
    "One method improving a model is to apply filters to a existing image and use multiple insstances of the same image, just with different filters, to feed into the model. \n",
    "\n",
    "computer vision allows you to accomplish a variety of tasks all based on CNNs. Usually, the most common use case is to idnetify specific objects in the image. \n",
    "\n",
    "Computer vision is a rapidly innovating fields, so keeping up with the literature may take some work! "
   ]
  }
 ],
 "metadata": {
  "kernelspec": {
   "display_name": "Python 3",
   "language": "python",
   "name": "python3"
  },
  "language_info": {
   "codemirror_mode": {
    "name": "ipython",
    "version": 3
   },
   "file_extension": ".py",
   "mimetype": "text/x-python",
   "name": "python",
   "nbconvert_exporter": "python",
   "pygments_lexer": "ipython3",
   "version": "3.8.3"
  }
 },
 "nbformat": 4,
 "nbformat_minor": 4
}
